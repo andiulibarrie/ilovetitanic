{
  "nbformat": 4,
  "nbformat_minor": 0,
  "metadata": {
    "colab": {
      "name": "dicaprio",
      "provenance": []
    },
    "kernelspec": {
      "name": "python3",
      "display_name": "Python 3"
    },
    "language_info": {
      "name": "python"
    },
    "accelerator": "GPU"
  },
  "cells": [
    {
      "cell_type": "markdown",
      "metadata": {
        "id": "b1IqbPART0Hw"
      },
      "source": [
        "# EDA para TITANIC\n",
        "Parte 1: Análisis exploratorio de datos (EDA): \n",
        "            \n",
        "       1) Análisis de las características.\n",
        "       2) Encontrar cualquier relación o tendencia considerando múltiples características.\n",
        "\n",
        "Parte 2: Ingeniería de características y limpieza de datos:  \n",
        "\n",
        "       1) Agregar algunas características.\n",
        "       2) Eliminación de funciones redundantes.\n",
        "       3) Convertir características en forme adecuada para modelar."
      ]
    },
    {
      "cell_type": "code",
      "metadata": {
        "colab": {
          "base_uri": "https://localhost:8080/"
        },
        "id": "MFxxd5gqVLex",
        "outputId": "c723d336-cc65-4503-97c4-4da99e5db440"
      },
      "source": [
        "from google.colab import drive \n",
        "\n",
        "drive.mount('/content/drive')\n"
      ],
      "execution_count": null,
      "outputs": [
        {
          "output_type": "stream",
          "name": "stdout",
          "text": [
            "Mounted at /content/drive\n"
          ]
        }
      ]
    },
    {
      "cell_type": "code",
      "metadata": {
        "id": "G5Ru6n7mXP1J"
      },
      "source": [
        "import numpy as np\n",
        "import pandas as pd\n",
        "import matplotlib.pyplot as plt\n",
        "import seaborn as sns\n",
        "\n",
        "import warnings\n",
        "warnings.filterwarnings('ignore')\n",
        "\n",
        "%matplotlib inline"
      ],
      "execution_count": null,
      "outputs": []
    },
    {
      "cell_type": "code",
      "metadata": {
        "id": "PHnJlCLnl0xQ"
      },
      "source": [
        "data = pd.read_csv('/content/drive/MyDrive/colab_projects/titanic/data/titanic_train.csv')"
      ],
      "execution_count": null,
      "outputs": []
    },
    {
      "cell_type": "code",
      "metadata": {
        "colab": {
          "base_uri": "https://localhost:8080/",
          "height": 204
        },
        "id": "uMXjDDcqrAe6",
        "outputId": "100e47b8-4c68-4740-bade-b35bee467ddd"
      },
      "source": [
        "data.head()"
      ],
      "execution_count": null,
      "outputs": [
        {
          "output_type": "execute_result",
          "data": {
            "text/html": [
              "<div>\n",
              "<style scoped>\n",
              "    .dataframe tbody tr th:only-of-type {\n",
              "        vertical-align: middle;\n",
              "    }\n",
              "\n",
              "    .dataframe tbody tr th {\n",
              "        vertical-align: top;\n",
              "    }\n",
              "\n",
              "    .dataframe thead th {\n",
              "        text-align: right;\n",
              "    }\n",
              "</style>\n",
              "<table border=\"1\" class=\"dataframe\">\n",
              "  <thead>\n",
              "    <tr style=\"text-align: right;\">\n",
              "      <th></th>\n",
              "      <th>PassengerId</th>\n",
              "      <th>Survived</th>\n",
              "      <th>Pclass</th>\n",
              "      <th>Name</th>\n",
              "      <th>Sex</th>\n",
              "      <th>Age</th>\n",
              "      <th>SibSp</th>\n",
              "      <th>Parch</th>\n",
              "      <th>Ticket</th>\n",
              "      <th>Fare</th>\n",
              "      <th>Cabin</th>\n",
              "      <th>Embarked</th>\n",
              "    </tr>\n",
              "  </thead>\n",
              "  <tbody>\n",
              "    <tr>\n",
              "      <th>0</th>\n",
              "      <td>1</td>\n",
              "      <td>0</td>\n",
              "      <td>3</td>\n",
              "      <td>Braund, Mr. Owen Harris</td>\n",
              "      <td>male</td>\n",
              "      <td>22.0</td>\n",
              "      <td>1</td>\n",
              "      <td>0</td>\n",
              "      <td>A/5 21171</td>\n",
              "      <td>7.2500</td>\n",
              "      <td>NaN</td>\n",
              "      <td>S</td>\n",
              "    </tr>\n",
              "    <tr>\n",
              "      <th>1</th>\n",
              "      <td>2</td>\n",
              "      <td>1</td>\n",
              "      <td>1</td>\n",
              "      <td>Cumings, Mrs. John Bradley (Florence Briggs Th...</td>\n",
              "      <td>female</td>\n",
              "      <td>38.0</td>\n",
              "      <td>1</td>\n",
              "      <td>0</td>\n",
              "      <td>PC 17599</td>\n",
              "      <td>71.2833</td>\n",
              "      <td>C85</td>\n",
              "      <td>C</td>\n",
              "    </tr>\n",
              "    <tr>\n",
              "      <th>2</th>\n",
              "      <td>3</td>\n",
              "      <td>1</td>\n",
              "      <td>3</td>\n",
              "      <td>Heikkinen, Miss. Laina</td>\n",
              "      <td>female</td>\n",
              "      <td>26.0</td>\n",
              "      <td>0</td>\n",
              "      <td>0</td>\n",
              "      <td>STON/O2. 3101282</td>\n",
              "      <td>7.9250</td>\n",
              "      <td>NaN</td>\n",
              "      <td>S</td>\n",
              "    </tr>\n",
              "    <tr>\n",
              "      <th>3</th>\n",
              "      <td>4</td>\n",
              "      <td>1</td>\n",
              "      <td>1</td>\n",
              "      <td>Futrelle, Mrs. Jacques Heath (Lily May Peel)</td>\n",
              "      <td>female</td>\n",
              "      <td>35.0</td>\n",
              "      <td>1</td>\n",
              "      <td>0</td>\n",
              "      <td>113803</td>\n",
              "      <td>53.1000</td>\n",
              "      <td>C123</td>\n",
              "      <td>S</td>\n",
              "    </tr>\n",
              "    <tr>\n",
              "      <th>4</th>\n",
              "      <td>5</td>\n",
              "      <td>0</td>\n",
              "      <td>3</td>\n",
              "      <td>Allen, Mr. William Henry</td>\n",
              "      <td>male</td>\n",
              "      <td>35.0</td>\n",
              "      <td>0</td>\n",
              "      <td>0</td>\n",
              "      <td>373450</td>\n",
              "      <td>8.0500</td>\n",
              "      <td>NaN</td>\n",
              "      <td>S</td>\n",
              "    </tr>\n",
              "  </tbody>\n",
              "</table>\n",
              "</div>"
            ],
            "text/plain": [
              "   PassengerId  Survived  Pclass  ...     Fare Cabin  Embarked\n",
              "0            1         0       3  ...   7.2500   NaN         S\n",
              "1            2         1       1  ...  71.2833   C85         C\n",
              "2            3         1       3  ...   7.9250   NaN         S\n",
              "3            4         1       1  ...  53.1000  C123         S\n",
              "4            5         0       3  ...   8.0500   NaN         S\n",
              "\n",
              "[5 rows x 12 columns]"
            ]
          },
          "metadata": {},
          "execution_count": 4
        }
      ]
    },
    {
      "cell_type": "code",
      "metadata": {
        "colab": {
          "base_uri": "https://localhost:8080/"
        },
        "id": "URfh565wdSxO",
        "outputId": "b6fff0ff-3998-48a2-f649-74bed624965a"
      },
      "source": [
        "#variable objetivo: Survived\n",
        "#revisar la cantidad de valores nulos dentro de mi DataFrame\n",
        "data.isnull().sum()"
      ],
      "execution_count": null,
      "outputs": [
        {
          "output_type": "execute_result",
          "data": {
            "text/plain": [
              "PassengerId      0\n",
              "Survived         0\n",
              "Pclass           0\n",
              "Name             0\n",
              "Sex              0\n",
              "Age            177\n",
              "SibSp            0\n",
              "Parch            0\n",
              "Ticket           0\n",
              "Fare             0\n",
              "Cabin          687\n",
              "Embarked         2\n",
              "dtype: int64"
            ]
          },
          "metadata": {},
          "execution_count": 5
        }
      ]
    },
    {
      "cell_type": "code",
      "metadata": {
        "colab": {
          "base_uri": "https://localhost:8080/",
          "height": 530
        },
        "id": "oJ-wrK9WGROP",
        "outputId": "5ea90d2d-c543-45c6-cf83-2a38554c0b1a"
      },
      "source": [
        "f, ax = plt.subplots(1,2, figsize = (18,8))\n",
        "\n",
        "data['Survived'].value_counts().plot.pie(autopct = '%1.1f%%' , ax = ax[0] , explode = [0, 0.1] , shadow = True)\n",
        "ax[0].set_title('Sobrevivientes')\n",
        "ax[0].set_ylabel('')\n",
        "\n",
        "\n",
        "sns.countplot('Sex', hue = 'Survived', data = data, ax = ax[1])\n",
        "ax[0].set_title('Cantidad de Sobrevivientes')"
      ],
      "execution_count": null,
      "outputs": [
        {
          "output_type": "execute_result",
          "data": {
            "text/plain": [
              "Text(0.5, 1.0, 'Cantidad de Sobrevivientes')"
            ]
          },
          "metadata": {},
          "execution_count": 6
        },
        {
          "output_type": "display_data",
          "data": {
            "image/png": "[encoded data removed]",
            "text/plain": [
              "<Figure size 1296x576 with 2 Axes>"
            ]
          },
          "metadata": {
            "needs_background": "light"
          }
        }
      ]
    },
    {
      "cell_type": "code",
      "metadata": {
        "id": "CzU1hQyhMIXQ"
      },
      "source": [
        "# ANÁLISIS DE CARACTERÍSTICAS\n",
        "#analizando variable sexo categórica\n"
      ],
      "execution_count": null,
      "outputs": []
    },
    {
      "cell_type": "code",
      "metadata": {
        "colab": {
          "base_uri": "https://localhost:8080/"
        },
        "id": "F2YhEAhK9-DD",
        "outputId": "2e531da5-7a05-43d2-e38a-a873207d6a34"
      },
      "source": [
        "data['PassengerId'].count()"
      ],
      "execution_count": null,
      "outputs": [
        {
          "output_type": "execute_result",
          "data": {
            "text/plain": [
              "891"
            ]
          },
          "metadata": {},
          "execution_count": 8
        }
      ]
    },
    {
      "cell_type": "code",
      "metadata": {
        "colab": {
          "base_uri": "https://localhost:8080/"
        },
        "id": "acKbEOjs--fy",
        "outputId": "71310d62-ef6a-445b-cbe2-49488ad141ac"
      },
      "source": [
        "data['Survived'].value_counts()"
      ],
      "execution_count": null,
      "outputs": [
        {
          "output_type": "execute_result",
          "data": {
            "text/plain": [
              "0    549\n",
              "1    342\n",
              "Name: Survived, dtype: int64"
            ]
          },
          "metadata": {},
          "execution_count": 9
        }
      ]
    },
    {
      "cell_type": "code",
      "metadata": {
        "colab": {
          "base_uri": "https://localhost:8080/"
        },
        "id": "-1jBDPHi_i83",
        "outputId": "685c70e5-af23-4843-a611-14cc67a26808"
      },
      "source": [
        "data.groupby(['Sex','Survived'])['Survived'].count()"
      ],
      "execution_count": null,
      "outputs": [
        {
          "output_type": "execute_result",
          "data": {
            "text/plain": [
              "Sex     Survived\n",
              "female  0            81\n",
              "        1           233\n",
              "male    0           468\n",
              "        1           109\n",
              "Name: Survived, dtype: int64"
            ]
          },
          "metadata": {},
          "execution_count": 10
        }
      ]
    },
    {
      "cell_type": "code",
      "metadata": {
        "colab": {
          "base_uri": "https://localhost:8080/",
          "height": 304
        },
        "id": "7C9-8A_WAsvT",
        "outputId": "469ef415-5609-4e1c-ddb7-300eb726be67"
      },
      "source": [
        "#gráfico con el promedio de hombres y mujeres que sobreviven\n",
        "data[ ['Sex','Survived'] ].groupby(['Sex']).mean().plot.bar()\n",
        "plt.show()"
      ],
      "execution_count": null,
      "outputs": [
        {
          "output_type": "display_data",
          "data": {
            "image/png": "[encoded data removed]",
            "text/plain": [
              "<Figure size 432x288 with 1 Axes>"
            ]
          },
          "metadata": {
            "needs_background": "light"
          }
        }
      ]
    },
    {
      "cell_type": "code",
      "metadata": {
        "id": "tlpRA22cCaBS"
      },
      "source": [
        "#Analizando variable ordinal Pclass"
      ],
      "execution_count": null,
      "outputs": []
    },
    {
      "cell_type": "code",
      "metadata": {
        "colab": {
          "base_uri": "https://localhost:8080/",
          "height": 204
        },
        "id": "D1kOqT16CinF",
        "outputId": "d6423fea-9d40-4b69-f88b-4a53a7c0ce60"
      },
      "source": [
        "pd.crosstab( data['Pclass'] , data['Survived'] , margins=True).style.background_gradient(cmap = 'summer_r')"
      ],
      "execution_count": null,
      "outputs": [
        {
          "output_type": "execute_result",
          "data": {
            "text/html": [
              "<style  type=\"text/css\" >\n",
              "#T_30b576f6_45bf_11ec_9a0f_0242ac1c0002row0_col0,#T_30b576f6_45bf_11ec_9a0f_0242ac1c0002row1_col1,#T_30b576f6_45bf_11ec_9a0f_0242ac1c0002row1_col2{\n",
              "            background-color:  #ffff66;\n",
              "            color:  #000000;\n",
              "        }#T_30b576f6_45bf_11ec_9a0f_0242ac1c0002row0_col1{\n",
              "            background-color:  #cee666;\n",
              "            color:  #000000;\n",
              "        }#T_30b576f6_45bf_11ec_9a0f_0242ac1c0002row0_col2{\n",
              "            background-color:  #f4fa66;\n",
              "            color:  #000000;\n",
              "        }#T_30b576f6_45bf_11ec_9a0f_0242ac1c0002row1_col0{\n",
              "            background-color:  #f6fa66;\n",
              "            color:  #000000;\n",
              "        }#T_30b576f6_45bf_11ec_9a0f_0242ac1c0002row2_col0{\n",
              "            background-color:  #60b066;\n",
              "            color:  #000000;\n",
              "        }#T_30b576f6_45bf_11ec_9a0f_0242ac1c0002row2_col1{\n",
              "            background-color:  #dfef66;\n",
              "            color:  #000000;\n",
              "        }#T_30b576f6_45bf_11ec_9a0f_0242ac1c0002row2_col2{\n",
              "            background-color:  #90c866;\n",
              "            color:  #000000;\n",
              "        }#T_30b576f6_45bf_11ec_9a0f_0242ac1c0002row3_col0,#T_30b576f6_45bf_11ec_9a0f_0242ac1c0002row3_col1,#T_30b576f6_45bf_11ec_9a0f_0242ac1c0002row3_col2{\n",
              "            background-color:  #008066;\n",
              "            color:  #f1f1f1;\n",
              "        }</style><table id=\"T_30b576f6_45bf_11ec_9a0f_0242ac1c0002\" class=\"dataframe\"><thead>    <tr>        <th class=\"index_name level0\" >Survived</th>        <th class=\"col_heading level0 col0\" >0</th>        <th class=\"col_heading level0 col1\" >1</th>        <th class=\"col_heading level0 col2\" >All</th>    </tr>    <tr>        <th class=\"index_name level0\" >Pclass</th>        <th class=\"blank\" ></th>        <th class=\"blank\" ></th>        <th class=\"blank\" ></th>    </tr></thead><tbody>\n",
              "                <tr>\n",
              "                        <th id=\"T_30b576f6_45bf_11ec_9a0f_0242ac1c0002level0_row0\" class=\"row_heading level0 row0\" >1</th>\n",
              "                        <td id=\"T_30b576f6_45bf_11ec_9a0f_0242ac1c0002row0_col0\" class=\"data row0 col0\" >80</td>\n",
              "                        <td id=\"T_30b576f6_45bf_11ec_9a0f_0242ac1c0002row0_col1\" class=\"data row0 col1\" >136</td>\n",
              "                        <td id=\"T_30b576f6_45bf_11ec_9a0f_0242ac1c0002row0_col2\" class=\"data row0 col2\" >216</td>\n",
              "            </tr>\n",
              "            <tr>\n",
              "                        <th id=\"T_30b576f6_45bf_11ec_9a0f_0242ac1c0002level0_row1\" class=\"row_heading level0 row1\" >2</th>\n",
              "                        <td id=\"T_30b576f6_45bf_11ec_9a0f_0242ac1c0002row1_col0\" class=\"data row1 col0\" >97</td>\n",
              "                        <td id=\"T_30b576f6_45bf_11ec_9a0f_0242ac1c0002row1_col1\" class=\"data row1 col1\" >87</td>\n",
              "                        <td id=\"T_30b576f6_45bf_11ec_9a0f_0242ac1c0002row1_col2\" class=\"data row1 col2\" >184</td>\n",
              "            </tr>\n",
              "            <tr>\n",
              "                        <th id=\"T_30b576f6_45bf_11ec_9a0f_0242ac1c0002level0_row2\" class=\"row_heading level0 row2\" >3</th>\n",
              "                        <td id=\"T_30b576f6_45bf_11ec_9a0f_0242ac1c0002row2_col0\" class=\"data row2 col0\" >372</td>\n",
              "                        <td id=\"T_30b576f6_45bf_11ec_9a0f_0242ac1c0002row2_col1\" class=\"data row2 col1\" >119</td>\n",
              "                        <td id=\"T_30b576f6_45bf_11ec_9a0f_0242ac1c0002row2_col2\" class=\"data row2 col2\" >491</td>\n",
              "            </tr>\n",
              "            <tr>\n",
              "                        <th id=\"T_30b576f6_45bf_11ec_9a0f_0242ac1c0002level0_row3\" class=\"row_heading level0 row3\" >All</th>\n",
              "                        <td id=\"T_30b576f6_45bf_11ec_9a0f_0242ac1c0002row3_col0\" class=\"data row3 col0\" >549</td>\n",
              "                        <td id=\"T_30b576f6_45bf_11ec_9a0f_0242ac1c0002row3_col1\" class=\"data row3 col1\" >342</td>\n",
              "                        <td id=\"T_30b576f6_45bf_11ec_9a0f_0242ac1c0002row3_col2\" class=\"data row3 col2\" >891</td>\n",
              "            </tr>\n",
              "    </tbody></table>"
            ],
            "text/plain": [
              "<pandas.io.formats.style.Styler at 0x7f538dffbb10>"
            ]
          },
          "metadata": {},
          "execution_count": 13
        }
      ]
    },
    {
      "cell_type": "code",
      "metadata": {
        "colab": {
          "base_uri": "https://localhost:8080/",
          "height": 530
        },
        "id": "3rQcIbTdlOPa",
        "outputId": "8e5670fe-ede7-471f-c6a3-ebdf8b0a31ca"
      },
      "source": [
        "f, ax = plt.subplots(1,2 , figsize = (18,8))\n",
        "\n",
        "data['Pclass'].value_counts().plot.bar( ax = ax[0], color = [ '#CD7F32', '#FFDF00', '#D3D3D3' ])\n",
        "ax[0].set_title('Cantidad de pasajeros por clase')\n",
        "ax[0].set_ylabel('Cantidad')\n",
        "\n",
        "sns.countplot('Pclass', hue ='Survived' , data= data, ax = ax[1])\n",
        "ax[1].set_title('Sobrevivientes vs. Muertos por clase')\n",
        "ax[1].set_ylabel('Cantidad')\n",
        "ax[1].set_xlabel('Clase')"
      ],
      "execution_count": null,
      "outputs": [
        {
          "output_type": "execute_result",
          "data": {
            "text/plain": [
              "Text(0.5, 0, 'Clase')"
            ]
          },
          "metadata": {},
          "execution_count": 14
        },
        {
          "output_type": "display_data",
          "data": {
            "image/png": "[encoded data removed]",
            "text/plain": [
              "<Figure size 1296x576 with 2 Axes>"
            ]
          },
          "metadata": {
            "needs_background": "light"
          }
        }
      ]
    },
    {
      "cell_type": "code",
      "metadata": {
        "id": "sjEfovoj6xsv"
      },
      "source": [
        "#Analizar la tasa de supervivencia según Sexo y Clase"
      ],
      "execution_count": null,
      "outputs": []
    },
    {
      "cell_type": "code",
      "metadata": {
        "colab": {
          "base_uri": "https://localhost:8080/",
          "height": 235
        },
        "id": "M0aEp-IY9iga",
        "outputId": "fed409ca-3fdd-47b3-bfb9-af3218841e9d"
      },
      "source": [
        "pd.crosstab( [data['Sex'], data['Survived']], data['Pclass'], margins=True).style.background_gradient(cmap ='summer_r')"
      ],
      "execution_count": null,
      "outputs": [
        {
          "output_type": "execute_result",
          "data": {
            "text/html": [
              "<style  type=\"text/css\" >\n",
              "#T_3d8feb5e_45bf_11ec_9a0f_0242ac1c0002row0_col0,#T_3d8feb5e_45bf_11ec_9a0f_0242ac1c0002row0_col1,#T_3d8feb5e_45bf_11ec_9a0f_0242ac1c0002row0_col3,#T_3d8feb5e_45bf_11ec_9a0f_0242ac1c0002row3_col2{\n",
              "            background-color:  #ffff66;\n",
              "            color:  #000000;\n",
              "        }#T_3d8feb5e_45bf_11ec_9a0f_0242ac1c0002row0_col2,#T_3d8feb5e_45bf_11ec_9a0f_0242ac1c0002row1_col2{\n",
              "            background-color:  #f1f866;\n",
              "            color:  #000000;\n",
              "        }#T_3d8feb5e_45bf_11ec_9a0f_0242ac1c0002row1_col0{\n",
              "            background-color:  #96cb66;\n",
              "            color:  #000000;\n",
              "        }#T_3d8feb5e_45bf_11ec_9a0f_0242ac1c0002row1_col1{\n",
              "            background-color:  #a3d166;\n",
              "            color:  #000000;\n",
              "        }#T_3d8feb5e_45bf_11ec_9a0f_0242ac1c0002row1_col3{\n",
              "            background-color:  #cfe766;\n",
              "            color:  #000000;\n",
              "        }#T_3d8feb5e_45bf_11ec_9a0f_0242ac1c0002row2_col0{\n",
              "            background-color:  #a7d366;\n",
              "            color:  #000000;\n",
              "        }#T_3d8feb5e_45bf_11ec_9a0f_0242ac1c0002row2_col1,#T_3d8feb5e_45bf_11ec_9a0f_0242ac1c0002row2_col3{\n",
              "            background-color:  #85c266;\n",
              "            color:  #000000;\n",
              "        }#T_3d8feb5e_45bf_11ec_9a0f_0242ac1c0002row2_col2{\n",
              "            background-color:  #6eb666;\n",
              "            color:  #000000;\n",
              "        }#T_3d8feb5e_45bf_11ec_9a0f_0242ac1c0002row3_col0{\n",
              "            background-color:  #cde666;\n",
              "            color:  #000000;\n",
              "        }#T_3d8feb5e_45bf_11ec_9a0f_0242ac1c0002row3_col1{\n",
              "            background-color:  #f0f866;\n",
              "            color:  #000000;\n",
              "        }#T_3d8feb5e_45bf_11ec_9a0f_0242ac1c0002row3_col3{\n",
              "            background-color:  #f7fb66;\n",
              "            color:  #000000;\n",
              "        }#T_3d8feb5e_45bf_11ec_9a0f_0242ac1c0002row4_col0,#T_3d8feb5e_45bf_11ec_9a0f_0242ac1c0002row4_col1,#T_3d8feb5e_45bf_11ec_9a0f_0242ac1c0002row4_col2,#T_3d8feb5e_45bf_11ec_9a0f_0242ac1c0002row4_col3{\n",
              "            background-color:  #008066;\n",
              "            color:  #f1f1f1;\n",
              "        }</style><table id=\"T_3d8feb5e_45bf_11ec_9a0f_0242ac1c0002\" class=\"dataframe\"><thead>    <tr>        <th class=\"blank\" ></th>        <th class=\"index_name level0\" >Pclass</th>        <th class=\"col_heading level0 col0\" >1</th>        <th class=\"col_heading level0 col1\" >2</th>        <th class=\"col_heading level0 col2\" >3</th>        <th class=\"col_heading level0 col3\" >All</th>    </tr>    <tr>        <th class=\"index_name level0\" >Sex</th>        <th class=\"index_name level1\" >Survived</th>        <th class=\"blank\" ></th>        <th class=\"blank\" ></th>        <th class=\"blank\" ></th>        <th class=\"blank\" ></th>    </tr></thead><tbody>\n",
              "                <tr>\n",
              "                        <th id=\"T_3d8feb5e_45bf_11ec_9a0f_0242ac1c0002level0_row0\" class=\"row_heading level0 row0\" rowspan=2>female</th>\n",
              "                        <th id=\"T_3d8feb5e_45bf_11ec_9a0f_0242ac1c0002level1_row0\" class=\"row_heading level1 row0\" >0</th>\n",
              "                        <td id=\"T_3d8feb5e_45bf_11ec_9a0f_0242ac1c0002row0_col0\" class=\"data row0 col0\" >3</td>\n",
              "                        <td id=\"T_3d8feb5e_45bf_11ec_9a0f_0242ac1c0002row0_col1\" class=\"data row0 col1\" >6</td>\n",
              "                        <td id=\"T_3d8feb5e_45bf_11ec_9a0f_0242ac1c0002row0_col2\" class=\"data row0 col2\" >72</td>\n",
              "                        <td id=\"T_3d8feb5e_45bf_11ec_9a0f_0242ac1c0002row0_col3\" class=\"data row0 col3\" >81</td>\n",
              "            </tr>\n",
              "            <tr>\n",
              "                                <th id=\"T_3d8feb5e_45bf_11ec_9a0f_0242ac1c0002level1_row1\" class=\"row_heading level1 row1\" >1</th>\n",
              "                        <td id=\"T_3d8feb5e_45bf_11ec_9a0f_0242ac1c0002row1_col0\" class=\"data row1 col0\" >91</td>\n",
              "                        <td id=\"T_3d8feb5e_45bf_11ec_9a0f_0242ac1c0002row1_col1\" class=\"data row1 col1\" >70</td>\n",
              "                        <td id=\"T_3d8feb5e_45bf_11ec_9a0f_0242ac1c0002row1_col2\" class=\"data row1 col2\" >72</td>\n",
              "                        <td id=\"T_3d8feb5e_45bf_11ec_9a0f_0242ac1c0002row1_col3\" class=\"data row1 col3\" >233</td>\n",
              "            </tr>\n",
              "            <tr>\n",
              "                        <th id=\"T_3d8feb5e_45bf_11ec_9a0f_0242ac1c0002level0_row2\" class=\"row_heading level0 row2\" rowspan=2>male</th>\n",
              "                        <th id=\"T_3d8feb5e_45bf_11ec_9a0f_0242ac1c0002level1_row2\" class=\"row_heading level1 row2\" >0</th>\n",
              "                        <td id=\"T_3d8feb5e_45bf_11ec_9a0f_0242ac1c0002row2_col0\" class=\"data row2 col0\" >77</td>\n",
              "                        <td id=\"T_3d8feb5e_45bf_11ec_9a0f_0242ac1c0002row2_col1\" class=\"data row2 col1\" >91</td>\n",
              "                        <td id=\"T_3d8feb5e_45bf_11ec_9a0f_0242ac1c0002row2_col2\" class=\"data row2 col2\" >300</td>\n",
              "                        <td id=\"T_3d8feb5e_45bf_11ec_9a0f_0242ac1c0002row2_col3\" class=\"data row2 col3\" >468</td>\n",
              "            </tr>\n",
              "            <tr>\n",
              "                                <th id=\"T_3d8feb5e_45bf_11ec_9a0f_0242ac1c0002level1_row3\" class=\"row_heading level1 row3\" >1</th>\n",
              "                        <td id=\"T_3d8feb5e_45bf_11ec_9a0f_0242ac1c0002row3_col0\" class=\"data row3 col0\" >45</td>\n",
              "                        <td id=\"T_3d8feb5e_45bf_11ec_9a0f_0242ac1c0002row3_col1\" class=\"data row3 col1\" >17</td>\n",
              "                        <td id=\"T_3d8feb5e_45bf_11ec_9a0f_0242ac1c0002row3_col2\" class=\"data row3 col2\" >47</td>\n",
              "                        <td id=\"T_3d8feb5e_45bf_11ec_9a0f_0242ac1c0002row3_col3\" class=\"data row3 col3\" >109</td>\n",
              "            </tr>\n",
              "            <tr>\n",
              "                        <th id=\"T_3d8feb5e_45bf_11ec_9a0f_0242ac1c0002level0_row4\" class=\"row_heading level0 row4\" >All</th>\n",
              "                        <th id=\"T_3d8feb5e_45bf_11ec_9a0f_0242ac1c0002level1_row4\" class=\"row_heading level1 row4\" ></th>\n",
              "                        <td id=\"T_3d8feb5e_45bf_11ec_9a0f_0242ac1c0002row4_col0\" class=\"data row4 col0\" >216</td>\n",
              "                        <td id=\"T_3d8feb5e_45bf_11ec_9a0f_0242ac1c0002row4_col1\" class=\"data row4 col1\" >184</td>\n",
              "                        <td id=\"T_3d8feb5e_45bf_11ec_9a0f_0242ac1c0002row4_col2\" class=\"data row4 col2\" >491</td>\n",
              "                        <td id=\"T_3d8feb5e_45bf_11ec_9a0f_0242ac1c0002row4_col3\" class=\"data row4 col3\" >891</td>\n",
              "            </tr>\n",
              "    </tbody></table>"
            ],
            "text/plain": [
              "<pandas.io.formats.style.Styler at 0x7f538e78dc90>"
            ]
          },
          "metadata": {},
          "execution_count": 16
        }
      ]
    },
    {
      "cell_type": "code",
      "metadata": {
        "colab": {
          "base_uri": "https://localhost:8080/",
          "height": 369
        },
        "id": "JTGGs7UoAE93",
        "outputId": "94070998-a46e-4d72-cbc4-952afa4aca74"
      },
      "source": [
        "sns.factorplot('Pclass', 'Survived', hue='Sex', data = data)\n",
        "plt.show()"
      ],
      "execution_count": null,
      "outputs": [
        {
          "output_type": "display_data",
          "data": {
            "image/png": "[encoded data removed]",
            "text/plain": [
              "<Figure size 430.5x360 with 1 Axes>"
            ]
          },
          "metadata": {
            "needs_background": "light"
          }
        }
      ]
    },
    {
      "cell_type": "code",
      "metadata": {
        "id": "-zHnXZwxD0oz"
      },
      "source": [
        "#Analizando el pasaje (Característica continua)"
      ],
      "execution_count": null,
      "outputs": []
    },
    {
      "cell_type": "code",
      "metadata": {
        "colab": {
          "base_uri": "https://localhost:8080/"
        },
        "id": "ynqEnwJgD9kS",
        "outputId": "a86b9cae-9257-4383-f230-60084b28e947"
      },
      "source": [
        "print(\"El pasaje más caro: \", data['Fare'].max())\n",
        "print(\"El pasaje más barato: \", data['Fare'].min())"
      ],
      "execution_count": null,
      "outputs": [
        {
          "output_type": "stream",
          "name": "stdout",
          "text": [
            "El pasaje más caro:  512.3292\n",
            "El pasaje más barato:  0.0\n"
          ]
        }
      ]
    },
    {
      "cell_type": "code",
      "metadata": {
        "colab": {
          "base_uri": "https://localhost:8080/",
          "height": 513
        },
        "id": "FAm_HbAAG2Ze",
        "outputId": "4aed72ca-f62b-4b6d-ceec-044b32eb9463"
      },
      "source": [
        "f, ax = plt.subplots(1, 3, figsize = (18,8))\n",
        "sns.distplot(  data[ data['Pclass'] == 1  ]['Fare'], ax = ax[0])\n",
        "ax[0].set_title('Pasajes de primera clase')\n",
        "\n",
        "sns.distplot(  data[ data['Pclass'] == 2  ]['Fare'], ax = ax[1])\n",
        "ax[1].set_title('Pasajes de segunda clase')\n",
        "\n",
        "sns.distplot(  data[ data['Pclass'] == 3  ]['Fare'], ax = ax[2])\n",
        "ax[2].set_title('Pasajes de tercera clase')\n",
        "\n",
        "plt.show()"
      ],
      "execution_count": null,
      "outputs": [
        {
          "output_type": "display_data",
          "data": {
            "image/png": "[encoded data removed]",
            "text/plain": [
              "<Figure size 1296x576 with 3 Axes>"
            ]
          },
          "metadata": {
            "needs_background": "light"
          }
        }
      ]
    },
    {
      "cell_type": "code",
      "metadata": {
        "id": "zVoW-6h2EcJn"
      },
      "source": [
        "# LIMPIEZA DE DATOS\n",
        "\n",
        "#1) Convertir algunas variables continuas en rangos.\n",
        "#2) Convertir valores String en valores numéricos.\n",
        "#3) Eliminar características innecesarias.\n",
        "#4) Corregir valores nulos.\n"
      ],
      "execution_count": null,
      "outputs": []
    },
    {
      "cell_type": "code",
      "metadata": {
        "id": "bvppC-6BbcMm"
      },
      "source": [
        "# Problema con la característica de edad:"
      ],
      "execution_count": null,
      "outputs": []
    },
    {
      "cell_type": "code",
      "metadata": {
        "id": "uE_Oh_DSbkAy"
      },
      "source": [
        "#Binning o Normalization\n",
        "data['rango_de_edad'] = 0\n",
        "data.loc[data['Age'] <= 16, 'rango_de_edad'] = 0\n",
        "data.loc[ (data['Age'] >16) & (data['Age'] <=32) , 'rango_de_edad'] = 1\n",
        "data.loc[ (data['Age']>32) & (data['Age']<=48) , 'rango_de_edad'] = 2\n",
        "data.loc[ (data['Age']>48) & (data['Age']<=64) , 'rango_de_edad'] = 3\n",
        "data.loc[ data['Age']>64, 'rango_de_edad'] = 4"
      ],
      "execution_count": null,
      "outputs": []
    },
    {
      "cell_type": "code",
      "metadata": {
        "id": "a_HoxPYvoJzN",
        "colab": {
          "base_uri": "https://localhost:8080/",
          "height": 204
        },
        "outputId": "444203af-e23b-4263-c667-9b8b820301d0"
      },
      "source": [
        "data.head()"
      ],
      "execution_count": null,
      "outputs": [
        {
          "output_type": "execute_result",
          "data": {
            "text/html": [
              "<div>\n",
              "<style scoped>\n",
              "    .dataframe tbody tr th:only-of-type {\n",
              "        vertical-align: middle;\n",
              "    }\n",
              "\n",
              "    .dataframe tbody tr th {\n",
              "        vertical-align: top;\n",
              "    }\n",
              "\n",
              "    .dataframe thead th {\n",
              "        text-align: right;\n",
              "    }\n",
              "</style>\n",
              "<table border=\"1\" class=\"dataframe\">\n",
              "  <thead>\n",
              "    <tr style=\"text-align: right;\">\n",
              "      <th></th>\n",
              "      <th>PassengerId</th>\n",
              "      <th>Survived</th>\n",
              "      <th>Pclass</th>\n",
              "      <th>Name</th>\n",
              "      <th>Sex</th>\n",
              "      <th>Age</th>\n",
              "      <th>SibSp</th>\n",
              "      <th>Parch</th>\n",
              "      <th>Ticket</th>\n",
              "      <th>Fare</th>\n",
              "      <th>Cabin</th>\n",
              "      <th>Embarked</th>\n",
              "      <th>rango_de_edad</th>\n",
              "    </tr>\n",
              "  </thead>\n",
              "  <tbody>\n",
              "    <tr>\n",
              "      <th>0</th>\n",
              "      <td>1</td>\n",
              "      <td>0</td>\n",
              "      <td>3</td>\n",
              "      <td>Braund, Mr. Owen Harris</td>\n",
              "      <td>male</td>\n",
              "      <td>22.0</td>\n",
              "      <td>1</td>\n",
              "      <td>0</td>\n",
              "      <td>A/5 21171</td>\n",
              "      <td>7.2500</td>\n",
              "      <td>NaN</td>\n",
              "      <td>S</td>\n",
              "      <td>1</td>\n",
              "    </tr>\n",
              "    <tr>\n",
              "      <th>1</th>\n",
              "      <td>2</td>\n",
              "      <td>1</td>\n",
              "      <td>1</td>\n",
              "      <td>Cumings, Mrs. John Bradley (Florence Briggs Th...</td>\n",
              "      <td>female</td>\n",
              "      <td>38.0</td>\n",
              "      <td>1</td>\n",
              "      <td>0</td>\n",
              "      <td>PC 17599</td>\n",
              "      <td>71.2833</td>\n",
              "      <td>C85</td>\n",
              "      <td>C</td>\n",
              "      <td>2</td>\n",
              "    </tr>\n",
              "    <tr>\n",
              "      <th>2</th>\n",
              "      <td>3</td>\n",
              "      <td>1</td>\n",
              "      <td>3</td>\n",
              "      <td>Heikkinen, Miss. Laina</td>\n",
              "      <td>female</td>\n",
              "      <td>26.0</td>\n",
              "      <td>0</td>\n",
              "      <td>0</td>\n",
              "      <td>STON/O2. 3101282</td>\n",
              "      <td>7.9250</td>\n",
              "      <td>NaN</td>\n",
              "      <td>S</td>\n",
              "      <td>1</td>\n",
              "    </tr>\n",
              "    <tr>\n",
              "      <th>3</th>\n",
              "      <td>4</td>\n",
              "      <td>1</td>\n",
              "      <td>1</td>\n",
              "      <td>Futrelle, Mrs. Jacques Heath (Lily May Peel)</td>\n",
              "      <td>female</td>\n",
              "      <td>35.0</td>\n",
              "      <td>1</td>\n",
              "      <td>0</td>\n",
              "      <td>113803</td>\n",
              "      <td>53.1000</td>\n",
              "      <td>C123</td>\n",
              "      <td>S</td>\n",
              "      <td>2</td>\n",
              "    </tr>\n",
              "    <tr>\n",
              "      <th>4</th>\n",
              "      <td>5</td>\n",
              "      <td>0</td>\n",
              "      <td>3</td>\n",
              "      <td>Allen, Mr. William Henry</td>\n",
              "      <td>male</td>\n",
              "      <td>35.0</td>\n",
              "      <td>0</td>\n",
              "      <td>0</td>\n",
              "      <td>373450</td>\n",
              "      <td>8.0500</td>\n",
              "      <td>NaN</td>\n",
              "      <td>S</td>\n",
              "      <td>2</td>\n",
              "    </tr>\n",
              "  </tbody>\n",
              "</table>\n",
              "</div>"
            ],
            "text/plain": [
              "   PassengerId  Survived  Pclass  ... Cabin Embarked  rango_de_edad\n",
              "0            1         0       3  ...   NaN        S              1\n",
              "1            2         1       1  ...   C85        C              2\n",
              "2            3         1       3  ...   NaN        S              1\n",
              "3            4         1       1  ...  C123        S              2\n",
              "4            5         0       3  ...   NaN        S              2\n",
              "\n",
              "[5 rows x 13 columns]"
            ]
          },
          "metadata": {},
          "execution_count": 24
        }
      ]
    },
    {
      "cell_type": "code",
      "metadata": {
        "colab": {
          "base_uri": "https://localhost:8080/",
          "height": 204
        },
        "id": "XGEr19bvqGhE",
        "outputId": "1e80c27b-57be-4bd6-850a-782060e8bf03"
      },
      "source": [
        "#Comprobar el número de pasajeros en cada banda\n",
        "data['rango_de_edad'].value_counts().to_frame().style.background_gradient(cmap='summer_r')"
      ],
      "execution_count": null,
      "outputs": [
        {
          "output_type": "execute_result",
          "data": {
            "text/html": [
              "<style  type=\"text/css\" >\n",
              "#T_565ce704_45bf_11ec_9a0f_0242ac1c0002row0_col0{\n",
              "            background-color:  #008066;\n",
              "            color:  #f1f1f1;\n",
              "        }#T_565ce704_45bf_11ec_9a0f_0242ac1c0002row1_col0{\n",
              "            background-color:  #349a66;\n",
              "            color:  #000000;\n",
              "        }#T_565ce704_45bf_11ec_9a0f_0242ac1c0002row2_col0{\n",
              "            background-color:  #78bc66;\n",
              "            color:  #000000;\n",
              "        }#T_565ce704_45bf_11ec_9a0f_0242ac1c0002row3_col0{\n",
              "            background-color:  #d3e966;\n",
              "            color:  #000000;\n",
              "        }#T_565ce704_45bf_11ec_9a0f_0242ac1c0002row4_col0{\n",
              "            background-color:  #ffff66;\n",
              "            color:  #000000;\n",
              "        }</style><table id=\"T_565ce704_45bf_11ec_9a0f_0242ac1c0002\" class=\"dataframe\"><thead>    <tr>        <th class=\"blank level0\" ></th>        <th class=\"col_heading level0 col0\" >rango_de_edad</th>    </tr></thead><tbody>\n",
              "                <tr>\n",
              "                        <th id=\"T_565ce704_45bf_11ec_9a0f_0242ac1c0002level0_row0\" class=\"row_heading level0 row0\" >1</th>\n",
              "                        <td id=\"T_565ce704_45bf_11ec_9a0f_0242ac1c0002row0_col0\" class=\"data row0 col0\" >346</td>\n",
              "            </tr>\n",
              "            <tr>\n",
              "                        <th id=\"T_565ce704_45bf_11ec_9a0f_0242ac1c0002level0_row1\" class=\"row_heading level0 row1\" >0</th>\n",
              "                        <td id=\"T_565ce704_45bf_11ec_9a0f_0242ac1c0002row1_col0\" class=\"data row1 col0\" >277</td>\n",
              "            </tr>\n",
              "            <tr>\n",
              "                        <th id=\"T_565ce704_45bf_11ec_9a0f_0242ac1c0002level0_row2\" class=\"row_heading level0 row2\" >2</th>\n",
              "                        <td id=\"T_565ce704_45bf_11ec_9a0f_0242ac1c0002row2_col0\" class=\"data row2 col0\" >188</td>\n",
              "            </tr>\n",
              "            <tr>\n",
              "                        <th id=\"T_565ce704_45bf_11ec_9a0f_0242ac1c0002level0_row3\" class=\"row_heading level0 row3\" >3</th>\n",
              "                        <td id=\"T_565ce704_45bf_11ec_9a0f_0242ac1c0002row3_col0\" class=\"data row3 col0\" >69</td>\n",
              "            </tr>\n",
              "            <tr>\n",
              "                        <th id=\"T_565ce704_45bf_11ec_9a0f_0242ac1c0002level0_row4\" class=\"row_heading level0 row4\" >4</th>\n",
              "                        <td id=\"T_565ce704_45bf_11ec_9a0f_0242ac1c0002row4_col0\" class=\"data row4 col0\" >11</td>\n",
              "            </tr>\n",
              "    </tbody></table>"
            ],
            "text/plain": [
              "<pandas.io.formats.style.Styler at 0x7f538c041ed0>"
            ]
          },
          "metadata": {},
          "execution_count": 25
        }
      ]
    },
    {
      "cell_type": "code",
      "metadata": {
        "colab": {
          "base_uri": "https://localhost:8080/",
          "height": 369
        },
        "id": "AYCR350HqGpq",
        "outputId": "b9d1fb90-3569-495a-e89c-1860f4d4f332"
      },
      "source": [
        "sns.factorplot('rango_de_edad', 'Survived', data= data, col = 'Pclass')\n",
        "\n",
        "plt.show()"
      ],
      "execution_count": null,
      "outputs": [
        {
          "output_type": "display_data",
          "data": {
            "image/png": "[encoded data removed]",
            "text/plain": [
              "<Figure size 1080x360 with 3 Axes>"
            ]
          },
          "metadata": {
            "needs_background": "light"
          }
        }
      ]
    },
    {
      "cell_type": "code",
      "metadata": {
        "id": "NDG7aQZdhiKp"
      },
      "source": [
        ""
      ],
      "execution_count": null,
      "outputs": []
    }
  ]
}